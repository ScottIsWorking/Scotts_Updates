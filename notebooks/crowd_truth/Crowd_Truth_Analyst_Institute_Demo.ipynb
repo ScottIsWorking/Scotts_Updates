{
 "cells": [
  {
   "cell_type": "markdown",
   "metadata": {},
   "source": [
    "# Analyst Institute - Message Testing \"Afraid\" Ad - In your own Words #1"
   ]
  },
  {
   "cell_type": "code",
   "execution_count": 1,
   "metadata": {},
   "outputs": [],
   "source": [
    "import pandas as pd\n",
    "import seaborn as sns\n",
    "from tqdm.auto import tqdm\n",
    "\n",
    "from crowd_truth_amt import CrowdTruth\n",
    "from itertools import combinations\n",
    "\n",
    "import qgrid\n",
    "import numpy as np"
   ]
  },
  {
   "cell_type": "markdown",
   "metadata": {},
   "source": [
    "### Loading the first turk jobs for the `message_testing_afraid_ad_saying_in_your_words` survey items"
   ]
  },
  {
   "cell_type": "code",
   "execution_count": 2,
   "metadata": {},
   "outputs": [
    {
     "data": {
      "application/vnd.jupyter.widget-view+json": {
       "model_id": "",
       "version_major": 2,
       "version_minor": 0
      },
      "text/plain": [
       "HBox(children=(FloatProgress(value=0.0, description='indexing responses', max=987.0, style=ProgressStyle(descr…"
      ]
     },
     "metadata": {},
     "output_type": "display_data"
    }
   ],
   "source": [
    "ai_afraid_ad_own_words_1_path = 'analyst_institute_afraid_ad_message_testing_saying_in_your_own_words_1.csv'\n",
    "ct = CrowdTruth(df=ai_afraid_ad_own_words_1_path)"
   ]
  },
  {
   "cell_type": "markdown",
   "metadata": {},
   "source": [
    "# Reviewing Workers"
   ]
  },
  {
   "cell_type": "markdown",
   "metadata": {},
   "source": [
    "## *Asymmetric Worker-Worker Agreement*\n",
    "For workers, $a$ and $b$, it is the number of times that $a$ and $b$ provided the same label for the same item divided by the total number of items that $a$ provided.\n",
    "\n",
    "***What it's good for***: This measure allows us to determine whether a pair of annotators have given the same response on a suspiciously high number of items. This can happen when turk workers have multiple accounts open for the same HITs and use this to double the amount of money they make. It's important to note that this is likely not much of an issue for us since we filter Turk workers for quality before allowing them into the task, so this measure will likely not get used much.\n",
    "\n",
    "***What to look for***: The more items that two annotators have in common, the less likely they are to have nearly perfect alignment. Look for workers who have labeled many things together AND still have a high agreement score."
   ]
  },
  {
   "cell_type": "code",
   "execution_count": 3,
   "metadata": {},
   "outputs": [],
   "source": [
    "worker_ids = ct.get_all_worker_ids()"
   ]
  },
  {
   "cell_type": "code",
   "execution_count": 4,
   "metadata": {},
   "outputs": [
    {
     "data": {
      "application/vnd.jupyter.widget-view+json": {
       "model_id": "4a9d1d958e974ff3bb24f12808292a84",
       "version_major": 2,
       "version_minor": 0
      },
      "text/plain": [
       "HBox(children=(FloatProgress(value=0.0, max=78.0), HTML(value='')))"
      ]
     },
     "metadata": {},
     "output_type": "display_data"
    },
    {
     "name": "stdout",
     "output_type": "stream",
     "text": [
      "\n"
     ]
    },
    {
     "data": {
      "application/vnd.jupyter.widget-view+json": {
       "model_id": "ec86eba0c9104769a9abb0b2c04efc17",
       "version_major": 2,
       "version_minor": 0
      },
      "text/plain": [
       "QgridWidget(grid_options={'fullWidthRows': True, 'syncColumnCellResize': True, 'forceFitColumns': True, 'defau…"
      ]
     },
     "metadata": {},
     "output_type": "display_data"
    }
   ],
   "source": [
    "worker_combos = list(combinations(worker_ids, 2))\n",
    "\n",
    "worker_agreements = []\n",
    "\n",
    "for wid1, wid2 in tqdm(worker_combos):\n",
    "    w_df1 = ct.get_worker_df(wid1)\n",
    "    w_df2 = ct.get_worker_df(wid2)\n",
    "    items_in_common = ct.items_in_common(w_df1, w_df2)\n",
    "    result1 = {'wid1':wid1,\n",
    "              'wid2':wid2,\n",
    "              'agreement':ct.asym_worker_agreement(w_df1, w_df2),\n",
    "              'n_common':items_in_common}\n",
    "    result2 = {'wid1':wid2,\n",
    "              'wid2':wid1,\n",
    "              'agreement':ct.asym_worker_agreement(w_df2, w_df1),\n",
    "              'n_common':items_in_common}\n",
    "    worker_agreements.append(result1)\n",
    "    worker_agreements.append(result2)\n",
    "    \n",
    "worker_agr_df = pd.DataFrame(worker_agreements)\n",
    "qgrid.show_grid(worker_agr_df.sort_values(by=['agreement', 'n_common'], ascending=[False, False]))"
   ]
  },
  {
   "cell_type": "markdown",
   "metadata": {},
   "source": [
    "## Worker-Item Similarity\n",
    "*worker-item similarity* is how close a worker's responses are to the aggregate of everyone else's responses\n",
    "\n",
    "$$\\text{worker-item similarity}(w) = \\text{cosine similarity}(w_i, V_i)$$\n",
    "\n",
    "$$w = \\text{the worker}$$\n",
    "\n",
    "$$w_i = \\text{The label vector that worker $w$ provided to item, $i$}$$\n",
    "\n",
    "$$V_i = \\text{The sum of all label vectors provided by all workers for item, $i$}$$"
   ]
  },
  {
   "cell_type": "code",
   "execution_count": 5,
   "metadata": {},
   "outputs": [
    {
     "data": {
      "application/vnd.jupyter.widget-view+json": {
       "model_id": "39af911a90254c87b1e7bd1beda2c68e",
       "version_major": 2,
       "version_minor": 0
      },
      "text/plain": [
       "HBox(children=(FloatProgress(value=0.0, description='Workers', max=13.0, style=ProgressStyle(description_width…"
      ]
     },
     "metadata": {},
     "output_type": "display_data"
    },
    {
     "name": "stdout",
     "output_type": "stream",
     "text": [
      "\n"
     ]
    },
    {
     "data": {
      "application/vnd.jupyter.widget-view+json": {
       "model_id": "23e84bc80dc9470082d16d41a9edd2bf",
       "version_major": 2,
       "version_minor": 0
      },
      "text/plain": [
       "QgridWidget(grid_options={'fullWidthRows': True, 'syncColumnCellResize': True, 'forceFitColumns': True, 'defau…"
      ]
     },
     "metadata": {},
     "output_type": "display_data"
    }
   ],
   "source": [
    "results = []\n",
    "\n",
    "for wid in tqdm(worker_ids, desc='Workers'):\n",
    "    w_df = ct.get_worker_df(wid)\n",
    "    \n",
    "    worker_item_sims = ct.get_worker_item_sims(w_df)\n",
    "    \n",
    "    result = {'wid':wid,\n",
    "              'avg_sim': worker_item_sims.mean(),\n",
    "              'stdev_sim': worker_item_sims.std(),\n",
    "              'num_annotations': len(worker_item_sims)}\n",
    "    results.append(result)\n",
    "    \n",
    "results_df = pd.DataFrame(results).set_index('wid')\n",
    "qgrid.show_grid(results_df.sort_values(by=['avg_sim', 'stdev_sim', 'num_annotations'], \\\n",
    "                                       ascending=[True, True,False]))"
   ]
  },
  {
   "cell_type": "markdown",
   "metadata": {},
   "source": [
    "## Reviewing specific workers"
   ]
  },
  {
   "cell_type": "markdown",
   "metadata": {},
   "source": [
    "### Display a distribution plot of the labels a worker provided"
   ]
  },
  {
   "cell_type": "code",
   "execution_count": 6,
   "metadata": {},
   "outputs": [
    {
     "data": {
      "text/plain": [
       "<matplotlib.axes._subplots.AxesSubplot at 0x12393a650>"
      ]
     },
     "execution_count": 6,
     "metadata": {},
     "output_type": "execute_result"
    },
    {
     "data": {
      "image/png": "[encoded data removed]",
      "text/plain": [
       "<Figure size 432x288 with 1 Axes>"
      ]
     },
     "metadata": {
      "needs_background": "light"
     },
     "output_type": "display_data"
    }
   ],
   "source": [
    "w_df = ct.get_worker_df('AEF601SQFOSBL')\n",
    "w_df = w_df[w_df.sum(axis=1) > 0]\n",
    "item_ids = list(w_df.index)\n",
    "w_item_sims = pd.DataFrame([ct.worker_item_sim(w_df, item_id) for item_id in item_ids], index=item_ids, columns=['worker-item sims'])\n",
    "\n",
    "w_df = pd.merge(w_df, w_item_sims, left_index=True, right_index=True)\n",
    "w_df.sum(axis=0).plot(kind='bar')"
   ]
  },
  {
   "cell_type": "markdown",
   "metadata": {},
   "source": [
    "### Removing a Worker\n",
    "If a worker has systematically provided low quality answers, we can remove them with the following steps:\n",
    "1. update `CrowdTruth.df` by removing the worker\n",
    "2. recompute `clarity_df` with `CrowdTruth.compute_clarity_df(df)`\n",
    "\n",
    "In this example, we'll remove worker #3 because they have a very low *worker-item score* AND they labeled a lot of items so this low score has a big influence\n",
    "on the quality of the dataset."
   ]
  },
  {
   "cell_type": "code",
   "execution_count": 7,
   "metadata": {},
   "outputs": [],
   "source": [
    "ct.df = ct.df[ct.df['WorkerId'] != 3]\n",
    "ct.clarity_df = ct.compute_clarity_df(ct.df)"
   ]
  },
  {
   "cell_type": "markdown",
   "metadata": {},
   "source": [
    "Now when we review the workers again, we see that the numbers have changed to reflect the absence of worker #3"
   ]
  },
  {
   "cell_type": "code",
   "execution_count": 8,
   "metadata": {},
   "outputs": [
    {
     "data": {
      "application/vnd.jupyter.widget-view+json": {
       "model_id": "9a82e359f32242cfa2dbb62c7514dac0",
       "version_major": 2,
       "version_minor": 0
      },
      "text/plain": [
       "HBox(children=(FloatProgress(value=0.0, description='Workers', max=13.0, style=ProgressStyle(description_width…"
      ]
     },
     "metadata": {},
     "output_type": "display_data"
    },
    {
     "name": "stdout",
     "output_type": "stream",
     "text": [
      "\n"
     ]
    },
    {
     "data": {
      "application/vnd.jupyter.widget-view+json": {
       "model_id": "0e54164645264c0787bd3d9de2e70297",
       "version_major": 2,
       "version_minor": 0
      },
      "text/plain": [
       "QgridWidget(grid_options={'fullWidthRows': True, 'syncColumnCellResize': True, 'forceFitColumns': True, 'defau…"
      ]
     },
     "metadata": {},
     "output_type": "display_data"
    }
   ],
   "source": [
    "results = []\n",
    "worker_ids = ct.get_all_worker_ids()\n",
    "\n",
    "for wid in tqdm(worker_ids, desc='Workers'):\n",
    "    w_df = ct.get_worker_df(wid)\n",
    "    \n",
    "    worker_item_sims = ct.get_worker_item_sims(w_df)\n",
    "    \n",
    "    result = {'wid':wid,\n",
    "              'avg_sim': worker_item_sims.mean(),\n",
    "              'stdev_sim': worker_item_sims.std(),\n",
    "              'num_annotations': len(worker_item_sims)}\n",
    "    results.append(result)\n",
    "    \n",
    "results_df = pd.DataFrame(results).set_index('wid')\n",
    "qgrid.show_grid(results_df.sort_values(by=['avg_sim', 'stdev_sim', 'num_annotations'], \\\n",
    "                                       ascending=[True, True,False]))"
   ]
  },
  {
   "cell_type": "markdown",
   "metadata": {},
   "source": [
    "***NOTE***: Sometimes when a `0` or `NaN` value is given for `avg_sim` it is the result of the worker's contributions having no\n",
    "overlap with other workers."
   ]
  },
  {
   "cell_type": "markdown",
   "metadata": {},
   "source": [
    "# Reviewing Themes / Relations"
   ]
  },
  {
   "cell_type": "markdown",
   "metadata": {},
   "source": [
    "## Relation Corroboration Scores\n",
    "The Relation Corroboration score is the number of times that a relation was applied *AND* corroborated by at least $x$ other annotators divided by the overall\n",
    "number of times that the relation was applied.\n",
    "\n",
    "$$\\frac{\\text{number of times the label was corroborated}}{\\text{total number of times the label was applied}}$$\n",
    "\n",
    "This metric allows us to better understand when a theme is clear enough that when it is applied, it is likely that another $x$ annotators will agree that this was a \n",
    "good choice."
   ]
  },
  {
   "cell_type": "code",
   "execution_count": 9,
   "metadata": {},
   "outputs": [
    {
     "data": {
      "text/plain": [
       "trump_afraid           0.925373\n",
       "trump_irresponsible    0.836364\n",
       "don't_vote_trump       0.825243\n",
       "trump_untrustworthy    0.781818\n",
       "trump_bad              0.722555\n",
       "Other                  0.710188\n",
       "NoMeaning              0.647541\n",
       "support_trump          0.585586\n",
       "trump_weak             0.280000\n",
       "dtype: float64"
      ]
     },
     "execution_count": 9,
     "metadata": {},
     "output_type": "execute_result"
    }
   ],
   "source": [
    "ct.get_theme_corroboration_scores()"
   ]
  },
  {
   "cell_type": "markdown",
   "metadata": {},
   "source": [
    "## Theme Association Rules\n",
    "\n",
    "Theme Association Rules are items that appear regularly with each other. It leverages the *apriori* algorithm for association rule mining. We can use this to better understand what themes are being applied regularly with other themes to understand if annotators are effectively distinguishing between themes that should be \n",
    "clearly distinguishable. This can also be used to identify scenarios in which a theme should be a subset of another theme meaning that every time the subtheme is applied,\n",
    "it is implied that the supertheme applies as well."
   ]
  },
  {
   "cell_type": "code",
   "execution_count": 10,
   "metadata": {},
   "outputs": [
    {
     "data": {
      "text/html": [
       "<div>\n",
       "<style scoped>\n",
       "    .dataframe tbody tr th:only-of-type {\n",
       "        vertical-align: middle;\n",
       "    }\n",
       "\n",
       "    .dataframe tbody tr th {\n",
       "        vertical-align: top;\n",
       "    }\n",
       "\n",
       "    .dataframe thead th {\n",
       "        text-align: right;\n",
       "    }\n",
       "</style>\n",
       "<table border=\"1\" class=\"dataframe\">\n",
       "  <thead>\n",
       "    <tr style=\"text-align: right;\">\n",
       "      <th></th>\n",
       "      <th>X</th>\n",
       "      <th>Y</th>\n",
       "      <th>confidence</th>\n",
       "    </tr>\n",
       "  </thead>\n",
       "  <tbody>\n",
       "    <tr>\n",
       "      <th>0</th>\n",
       "      <td>(support_trump,)</td>\n",
       "      <td>(Other,)</td>\n",
       "      <td>0.823529</td>\n",
       "    </tr>\n",
       "    <tr>\n",
       "      <th>1</th>\n",
       "      <td>(don't_vote_trump,)</td>\n",
       "      <td>(Other,)</td>\n",
       "      <td>0.429658</td>\n",
       "    </tr>\n",
       "    <tr>\n",
       "      <th>2</th>\n",
       "      <td>(NoMeaning,)</td>\n",
       "      <td>(Other,)</td>\n",
       "      <td>0.789474</td>\n",
       "    </tr>\n",
       "  </tbody>\n",
       "</table>\n",
       "</div>"
      ],
      "text/plain": [
       "                     X         Y  confidence\n",
       "0     (support_trump,)  (Other,)    0.823529\n",
       "1  (don't_vote_trump,)  (Other,)    0.429658\n",
       "2         (NoMeaning,)  (Other,)    0.789474"
      ]
     },
     "execution_count": 10,
     "metadata": {},
     "output_type": "execute_result"
    }
   ],
   "source": [
    "ct.get_theme_association_rules().head()"
   ]
  },
  {
   "cell_type": "markdown",
   "metadata": {},
   "source": [
    "## Relation Clarity Scores\n",
    "The relation clarity score tells us the most a relation/theme ever uniquely described an item. In our current workflow, we often assume that an item is likely to have more than 1 of the nearly 20 or so themes that are often being applied, so a metric that only tells us how well a relation was every uniquely applied is not helpful as a universal metric for assessing themes. However, it does help us to review relation that we believe *should* be uniquely describing an item. This especially important for non-theme relations like ***NoMeaning***, because we would expect that if we are certain that there is no meaning to a post, then we should not also be choosing a relation that *has meaning*."
   ]
  },
  {
   "cell_type": "code",
   "execution_count": 11,
   "metadata": {},
   "outputs": [
    {
     "data": {
      "text/html": [
       "<div>\n",
       "<style scoped>\n",
       "    .dataframe tbody tr th:only-of-type {\n",
       "        vertical-align: middle;\n",
       "    }\n",
       "\n",
       "    .dataframe tbody tr th {\n",
       "        vertical-align: top;\n",
       "    }\n",
       "\n",
       "    .dataframe thead th {\n",
       "        text-align: right;\n",
       "    }\n",
       "</style>\n",
       "<table border=\"1\" class=\"dataframe\">\n",
       "  <thead>\n",
       "    <tr style=\"text-align: right;\">\n",
       "      <th></th>\n",
       "      <th>rel_clarity (max)</th>\n",
       "      <th>rel_clarity (mean)</th>\n",
       "      <th>rel_clarity (StDev)</th>\n",
       "      <th>num_annotations</th>\n",
       "    </tr>\n",
       "  </thead>\n",
       "  <tbody>\n",
       "    <tr>\n",
       "      <th>Other</th>\n",
       "      <td>1.00</td>\n",
       "      <td>0.335285</td>\n",
       "      <td>0.357632</td>\n",
       "      <td>1011.0</td>\n",
       "    </tr>\n",
       "    <tr>\n",
       "      <th>don't_vote_trump</th>\n",
       "      <td>1.00</td>\n",
       "      <td>0.158412</td>\n",
       "      <td>0.296521</td>\n",
       "      <td>515.0</td>\n",
       "    </tr>\n",
       "    <tr>\n",
       "      <th>trump_bad</th>\n",
       "      <td>1.00</td>\n",
       "      <td>0.150712</td>\n",
       "      <td>0.278969</td>\n",
       "      <td>501.0</td>\n",
       "    </tr>\n",
       "    <tr>\n",
       "      <th>trump_afraid</th>\n",
       "      <td>1.00</td>\n",
       "      <td>0.139736</td>\n",
       "      <td>0.301642</td>\n",
       "      <td>469.0</td>\n",
       "    </tr>\n",
       "    <tr>\n",
       "      <th>support_trump</th>\n",
       "      <td>1.00</td>\n",
       "      <td>0.072205</td>\n",
       "      <td>0.185528</td>\n",
       "      <td>222.0</td>\n",
       "    </tr>\n",
       "    <tr>\n",
       "      <th>trump_irresponsible</th>\n",
       "      <td>1.00</td>\n",
       "      <td>0.047602</td>\n",
       "      <td>0.176295</td>\n",
       "      <td>165.0</td>\n",
       "    </tr>\n",
       "    <tr>\n",
       "      <th>NoMeaning</th>\n",
       "      <td>1.00</td>\n",
       "      <td>0.041202</td>\n",
       "      <td>0.159204</td>\n",
       "      <td>122.0</td>\n",
       "    </tr>\n",
       "    <tr>\n",
       "      <th>trump_untrustworthy</th>\n",
       "      <td>1.00</td>\n",
       "      <td>0.033502</td>\n",
       "      <td>0.148681</td>\n",
       "      <td>110.0</td>\n",
       "    </tr>\n",
       "    <tr>\n",
       "      <th>trump_weak</th>\n",
       "      <td>0.75</td>\n",
       "      <td>0.021344</td>\n",
       "      <td>0.089194</td>\n",
       "      <td>75.0</td>\n",
       "    </tr>\n",
       "  </tbody>\n",
       "</table>\n",
       "</div>"
      ],
      "text/plain": [
       "                     rel_clarity (max)  rel_clarity (mean)  \\\n",
       "Other                             1.00            0.335285   \n",
       "don't_vote_trump                  1.00            0.158412   \n",
       "trump_bad                         1.00            0.150712   \n",
       "trump_afraid                      1.00            0.139736   \n",
       "support_trump                     1.00            0.072205   \n",
       "trump_irresponsible               1.00            0.047602   \n",
       "NoMeaning                         1.00            0.041202   \n",
       "trump_untrustworthy               1.00            0.033502   \n",
       "trump_weak                        0.75            0.021344   \n",
       "\n",
       "                     rel_clarity (StDev)  num_annotations  \n",
       "Other                           0.357632           1011.0  \n",
       "don't_vote_trump                0.296521            515.0  \n",
       "trump_bad                       0.278969            501.0  \n",
       "trump_afraid                    0.301642            469.0  \n",
       "support_trump                   0.185528            222.0  \n",
       "trump_irresponsible             0.176295            165.0  \n",
       "NoMeaning                       0.159204            122.0  \n",
       "trump_untrustworthy             0.148681            110.0  \n",
       "trump_weak                      0.089194             75.0  "
      ]
     },
     "execution_count": 11,
     "metadata": {},
     "output_type": "execute_result"
    }
   ],
   "source": [
    "ct.relation_clarity_scores().sort_values(by='rel_clarity (mean)', ascending=False)"
   ]
  },
  {
   "cell_type": "markdown",
   "metadata": {},
   "source": [
    "# Reviewing Items"
   ]
  },
  {
   "cell_type": "markdown",
   "metadata": {},
   "source": [
    "## *Item Corroboration Score*'\n",
    "the number of times a label was corroborated for an item divided by the total number of labels"
   ]
  },
  {
   "cell_type": "code",
   "execution_count": 12,
   "metadata": {},
   "outputs": [
    {
     "data": {
      "text/html": [
       "<div>\n",
       "<style scoped>\n",
       "    .dataframe tbody tr th:only-of-type {\n",
       "        vertical-align: middle;\n",
       "    }\n",
       "\n",
       "    .dataframe tbody tr th {\n",
       "        vertical-align: top;\n",
       "    }\n",
       "\n",
       "    .dataframe thead th {\n",
       "        text-align: right;\n",
       "    }\n",
       "</style>\n",
       "<table border=\"1\" class=\"dataframe\">\n",
       "  <thead>\n",
       "    <tr style=\"text-align: right;\">\n",
       "      <th></th>\n",
       "      <th>corroboration</th>\n",
       "      <th>response</th>\n",
       "    </tr>\n",
       "  </thead>\n",
       "  <tbody>\n",
       "    <tr>\n",
       "      <th>301KG0KX9DZJQ5F4XJZ78S503L6H2A</th>\n",
       "      <td>0.000000</td>\n",
       "      <td>It is an ad campaign designed to bash trump.</td>\n",
       "    </tr>\n",
       "    <tr>\n",
       "      <th>301KG0KX9DZJQ5F4XJZ78S503L72HW</th>\n",
       "      <td>0.666667</td>\n",
       "      <td>Things didn't have to be the way they are. We ...</td>\n",
       "    </tr>\n",
       "    <tr>\n",
       "      <th>302OLP89D0LHE0ZSO6EL3JRI2HTAC1</th>\n",
       "      <td>0.666667</td>\n",
       "      <td>No matter how hard they have to distort realit...</td>\n",
       "    </tr>\n",
       "    <tr>\n",
       "      <th>302OLP89D0LHE0ZSO6EL3JRI2HTCA3</th>\n",
       "      <td>1.000000</td>\n",
       "      <td>He doesn't take responsibility for his actions.</td>\n",
       "    </tr>\n",
       "    <tr>\n",
       "      <th>302U8RURJ0FKXSZHOREVFHZ7MV8NVX</th>\n",
       "      <td>1.000000</td>\n",
       "      <td>be safe</td>\n",
       "    </tr>\n",
       "    <tr>\n",
       "      <th>...</th>\n",
       "      <td>...</td>\n",
       "      <td>...</td>\n",
       "    </tr>\n",
       "    <tr>\n",
       "      <th>3ZXNP4Z39SZSY2V0UGV0WBFFVI1L71</th>\n",
       "      <td>0.666667</td>\n",
       "      <td>Fake media will continue lying about the truth</td>\n",
       "    </tr>\n",
       "    <tr>\n",
       "      <th>3ZXV7Q5FJC2CARG0ZM0DHK29ZX6CFG</th>\n",
       "      <td>0.666667</td>\n",
       "      <td>who the best president would be</td>\n",
       "    </tr>\n",
       "    <tr>\n",
       "      <th>3ZXV7Q5FJC2CARG0ZM0DHK29ZX6FCJ</th>\n",
       "      <td>1.000000</td>\n",
       "      <td>Trump is a bad leader</td>\n",
       "    </tr>\n",
       "    <tr>\n",
       "      <th>3ZZAYRN1I75N2LV4KBETTOBRFKXOTX</th>\n",
       "      <td>0.666667</td>\n",
       "      <td>Smndjdjd</td>\n",
       "    </tr>\n",
       "    <tr>\n",
       "      <th>3ZZAYRN1I75N2LV4KBETTOBRFKXTO2</th>\n",
       "      <td>0.666667</td>\n",
       "      <td>The ad is blaming Trump for a number of things...</td>\n",
       "    </tr>\n",
       "  </tbody>\n",
       "</table>\n",
       "<p>987 rows × 2 columns</p>\n",
       "</div>"
      ],
      "text/plain": [
       "                                corroboration  \\\n",
       "301KG0KX9DZJQ5F4XJZ78S503L6H2A       0.000000   \n",
       "301KG0KX9DZJQ5F4XJZ78S503L72HW       0.666667   \n",
       "302OLP89D0LHE0ZSO6EL3JRI2HTAC1       0.666667   \n",
       "302OLP89D0LHE0ZSO6EL3JRI2HTCA3       1.000000   \n",
       "302U8RURJ0FKXSZHOREVFHZ7MV8NVX       1.000000   \n",
       "...                                       ...   \n",
       "3ZXNP4Z39SZSY2V0UGV0WBFFVI1L71       0.666667   \n",
       "3ZXV7Q5FJC2CARG0ZM0DHK29ZX6CFG       0.666667   \n",
       "3ZXV7Q5FJC2CARG0ZM0DHK29ZX6FCJ       1.000000   \n",
       "3ZZAYRN1I75N2LV4KBETTOBRFKXOTX       0.666667   \n",
       "3ZZAYRN1I75N2LV4KBETTOBRFKXTO2       0.666667   \n",
       "\n",
       "                                                                         response  \n",
       "301KG0KX9DZJQ5F4XJZ78S503L6H2A       It is an ad campaign designed to bash trump.  \n",
       "301KG0KX9DZJQ5F4XJZ78S503L72HW  Things didn't have to be the way they are. We ...  \n",
       "302OLP89D0LHE0ZSO6EL3JRI2HTAC1  No matter how hard they have to distort realit...  \n",
       "302OLP89D0LHE0ZSO6EL3JRI2HTCA3    He doesn't take responsibility for his actions.  \n",
       "302U8RURJ0FKXSZHOREVFHZ7MV8NVX                                            be safe  \n",
       "...                                                                           ...  \n",
       "3ZXNP4Z39SZSY2V0UGV0WBFFVI1L71     Fake media will continue lying about the truth  \n",
       "3ZXV7Q5FJC2CARG0ZM0DHK29ZX6CFG                    who the best president would be  \n",
       "3ZXV7Q5FJC2CARG0ZM0DHK29ZX6FCJ                              Trump is a bad leader  \n",
       "3ZZAYRN1I75N2LV4KBETTOBRFKXOTX                                           Smndjdjd  \n",
       "3ZZAYRN1I75N2LV4KBETTOBRFKXTO2  The ad is blaming Trump for a number of things...  \n",
       "\n",
       "[987 rows x 2 columns]"
      ]
     },
     "execution_count": 12,
     "metadata": {},
     "output_type": "execute_result"
    }
   ],
   "source": [
    "pd.merge(ct.get_item_corroboration_scores().to_frame(name='corroboration'), ct.responses.to_frame(name='response'), left_index=True, right_index=True)"
   ]
  },
  {
   "cell_type": "markdown",
   "metadata": {},
   "source": [
    "## *Item-Relation Score*\n",
    "This is the proportion of votes for a relation to apply to a theme. Similar to the issues with the Theme clarity score, Item-Relation Scores mostly help us to understand\n",
    "when a relation *uniquely* describes an item, not when a relation describes an item well."
   ]
  },
  {
   "cell_type": "code",
   "execution_count": 13,
   "metadata": {},
   "outputs": [
    {
     "data": {
      "text/html": [
       "<div>\n",
       "<style scoped>\n",
       "    .dataframe tbody tr th:only-of-type {\n",
       "        vertical-align: middle;\n",
       "    }\n",
       "\n",
       "    .dataframe tbody tr th {\n",
       "        vertical-align: top;\n",
       "    }\n",
       "\n",
       "    .dataframe thead th {\n",
       "        text-align: right;\n",
       "    }\n",
       "</style>\n",
       "<table border=\"1\" class=\"dataframe\">\n",
       "  <thead>\n",
       "    <tr style=\"text-align: right;\">\n",
       "      <th></th>\n",
       "      <th>trump_bad</th>\n",
       "      <th>NoMeaning</th>\n",
       "      <th>Other</th>\n",
       "      <th>trump_untrustworthy</th>\n",
       "      <th>support_trump</th>\n",
       "      <th>don't_vote_trump</th>\n",
       "      <th>trump_afraid</th>\n",
       "      <th>trump_irresponsible</th>\n",
       "      <th>trump_weak</th>\n",
       "    </tr>\n",
       "    <tr>\n",
       "      <th>HITId</th>\n",
       "      <th></th>\n",
       "      <th></th>\n",
       "      <th></th>\n",
       "      <th></th>\n",
       "      <th></th>\n",
       "      <th></th>\n",
       "      <th></th>\n",
       "      <th></th>\n",
       "      <th></th>\n",
       "    </tr>\n",
       "  </thead>\n",
       "  <tbody>\n",
       "    <tr>\n",
       "      <th>301KG0KX9DZJQ5F4XJZ78S503L6H2A</th>\n",
       "      <td>0.333333</td>\n",
       "      <td>0.0</td>\n",
       "      <td>0.333333</td>\n",
       "      <td>0.0</td>\n",
       "      <td>0.333333</td>\n",
       "      <td>0.000000</td>\n",
       "      <td>0.0</td>\n",
       "      <td>0.0</td>\n",
       "      <td>0.0</td>\n",
       "    </tr>\n",
       "    <tr>\n",
       "      <th>301KG0KX9DZJQ5F4XJZ78S503L72HW</th>\n",
       "      <td>0.000000</td>\n",
       "      <td>0.0</td>\n",
       "      <td>0.666667</td>\n",
       "      <td>0.0</td>\n",
       "      <td>0.000000</td>\n",
       "      <td>0.333333</td>\n",
       "      <td>0.0</td>\n",
       "      <td>0.0</td>\n",
       "      <td>0.0</td>\n",
       "    </tr>\n",
       "    <tr>\n",
       "      <th>302OLP89D0LHE0ZSO6EL3JRI2HTAC1</th>\n",
       "      <td>0.000000</td>\n",
       "      <td>0.0</td>\n",
       "      <td>0.333333</td>\n",
       "      <td>0.0</td>\n",
       "      <td>0.666667</td>\n",
       "      <td>0.000000</td>\n",
       "      <td>0.0</td>\n",
       "      <td>0.0</td>\n",
       "      <td>0.0</td>\n",
       "    </tr>\n",
       "    <tr>\n",
       "      <th>302OLP89D0LHE0ZSO6EL3JRI2HTCA3</th>\n",
       "      <td>0.000000</td>\n",
       "      <td>0.0</td>\n",
       "      <td>0.000000</td>\n",
       "      <td>0.0</td>\n",
       "      <td>0.000000</td>\n",
       "      <td>0.000000</td>\n",
       "      <td>0.0</td>\n",
       "      <td>1.0</td>\n",
       "      <td>0.0</td>\n",
       "    </tr>\n",
       "    <tr>\n",
       "      <th>302U8RURJ0FKXSZHOREVFHZ7MV8NVX</th>\n",
       "      <td>0.000000</td>\n",
       "      <td>0.0</td>\n",
       "      <td>1.000000</td>\n",
       "      <td>0.0</td>\n",
       "      <td>0.000000</td>\n",
       "      <td>0.000000</td>\n",
       "      <td>0.0</td>\n",
       "      <td>0.0</td>\n",
       "      <td>0.0</td>\n",
       "    </tr>\n",
       "  </tbody>\n",
       "</table>\n",
       "</div>"
      ],
      "text/plain": [
       "                                trump_bad  NoMeaning     Other  \\\n",
       "HITId                                                            \n",
       "301KG0KX9DZJQ5F4XJZ78S503L6H2A   0.333333        0.0  0.333333   \n",
       "301KG0KX9DZJQ5F4XJZ78S503L72HW   0.000000        0.0  0.666667   \n",
       "302OLP89D0LHE0ZSO6EL3JRI2HTAC1   0.000000        0.0  0.333333   \n",
       "302OLP89D0LHE0ZSO6EL3JRI2HTCA3   0.000000        0.0  0.000000   \n",
       "302U8RURJ0FKXSZHOREVFHZ7MV8NVX   0.000000        0.0  1.000000   \n",
       "\n",
       "                                trump_untrustworthy  support_trump  \\\n",
       "HITId                                                                \n",
       "301KG0KX9DZJQ5F4XJZ78S503L6H2A                  0.0       0.333333   \n",
       "301KG0KX9DZJQ5F4XJZ78S503L72HW                  0.0       0.000000   \n",
       "302OLP89D0LHE0ZSO6EL3JRI2HTAC1                  0.0       0.666667   \n",
       "302OLP89D0LHE0ZSO6EL3JRI2HTCA3                  0.0       0.000000   \n",
       "302U8RURJ0FKXSZHOREVFHZ7MV8NVX                  0.0       0.000000   \n",
       "\n",
       "                                don't_vote_trump  trump_afraid  \\\n",
       "HITId                                                            \n",
       "301KG0KX9DZJQ5F4XJZ78S503L6H2A          0.000000           0.0   \n",
       "301KG0KX9DZJQ5F4XJZ78S503L72HW          0.333333           0.0   \n",
       "302OLP89D0LHE0ZSO6EL3JRI2HTAC1          0.000000           0.0   \n",
       "302OLP89D0LHE0ZSO6EL3JRI2HTCA3          0.000000           0.0   \n",
       "302U8RURJ0FKXSZHOREVFHZ7MV8NVX          0.000000           0.0   \n",
       "\n",
       "                                trump_irresponsible  trump_weak  \n",
       "HITId                                                            \n",
       "301KG0KX9DZJQ5F4XJZ78S503L6H2A                  0.0         0.0  \n",
       "301KG0KX9DZJQ5F4XJZ78S503L72HW                  0.0         0.0  \n",
       "302OLP89D0LHE0ZSO6EL3JRI2HTAC1                  0.0         0.0  \n",
       "302OLP89D0LHE0ZSO6EL3JRI2HTCA3                  1.0         0.0  \n",
       "302U8RURJ0FKXSZHOREVFHZ7MV8NVX                  0.0         0.0  "
      ]
     },
     "execution_count": 13,
     "metadata": {},
     "output_type": "execute_result"
    }
   ],
   "source": [
    "item_rel_df = ct.get_item_relation_scores()\n",
    "item_rel_df.head()"
   ]
  },
  {
   "cell_type": "markdown",
   "metadata": {},
   "source": [
    "### *Item-Clarity*\n",
    "The maximum item-relation score for an item.\n",
    "\n",
    "***Caveat***: Item clarity assumes that what we want is for a relation/theme to singularly represent an item. Ideally, we would use a metric that provides an equally high score for an item that has 1 clear label as it does for an item that has 2 clear items."
   ]
  },
  {
   "cell_type": "code",
   "execution_count": 14,
   "metadata": {},
   "outputs": [
    {
     "data": {
      "text/plain": [
       "trump_bad              0.333333\n",
       "NoMeaning              0.000000\n",
       "Other                  0.333333\n",
       "trump_untrustworthy    0.000000\n",
       "support_trump          0.333333\n",
       "don't_vote_trump       0.000000\n",
       "trump_afraid           0.000000\n",
       "trump_irresponsible    0.000000\n",
       "trump_weak             0.000000\n",
       "Name: 301KG0KX9DZJQ5F4XJZ78S503L6H2A, dtype: float64"
      ]
     },
     "execution_count": 14,
     "metadata": {},
     "output_type": "execute_result"
    }
   ],
   "source": [
    "item_rel_df.loc['301KG0KX9DZJQ5F4XJZ78S503L6H2A']"
   ]
  }
 ],
 "metadata": {
  "kernelspec": {
   "display_name": "eda",
   "language": "python",
   "name": "eda"
  },
  "language_info": {
   "codemirror_mode": {
    "name": "ipython",
    "version": 3
   },
   "file_extension": ".py",
   "mimetype": "text/x-python",
   "name": "python",
   "nbconvert_exporter": "python",
   "pygments_lexer": "ipython3",
   "version": "3.7.7"
  }
 },
 "nbformat": 4,
 "nbformat_minor": 4
}
