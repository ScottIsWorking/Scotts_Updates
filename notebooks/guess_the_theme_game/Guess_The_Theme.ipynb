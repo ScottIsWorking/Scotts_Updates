{
 "cells": [
  {
   "cell_type": "markdown",
   "metadata": {},
   "source": [
    "# Resources\n",
    "* [jupyter.org/widgets](https://jupyter.org/widgets)\n",
    "* [ipywidgets `interact`](https://ipywidgets.readthedocs.io/en/stable/examples/Using%20Interact.html)\n",
    "* [TowardDataScience.com blog](https://towardsdatascience.com/bring-your-jupyter-notebook-to-life-with-interactive-widgets-bc12e03f0916)"
   ]
  },
  {
   "cell_type": "code",
   "execution_count": 1,
   "metadata": {},
   "outputs": [],
   "source": [
    "import ipywidgets as wiggy\n",
    "from IPython.display import display\n",
    "from crowd_truth_amt import CrowdTruth\n",
    "import random"
   ]
  },
  {
   "cell_type": "markdown",
   "metadata": {},
   "source": [
    "# Guess The Theme"
   ]
  },
  {
   "cell_type": "markdown",
   "metadata": {},
   "source": [
    "1. pick a relation/theme at random (omit `Other` and `NoMeaning`)\n",
    "2. find all responses from that theme\n",
    "3. read the first 20 responses\n",
    "4. guess the theme"
   ]
  },
  {
   "cell_type": "code",
   "execution_count": 2,
   "metadata": {},
   "outputs": [
    {
     "data": {
      "application/vnd.jupyter.widget-view+json": {
       "model_id": "",
       "version_major": 2,
       "version_minor": 0
      },
      "text/plain": [
       "HBox(children=(FloatProgress(value=0.0, description='indexing responses', max=987.0, style=ProgressStyle(descr…"
      ]
     },
     "metadata": {},
     "output_type": "display_data"
    }
   ],
   "source": [
    "ai_afraid_ad_own_words_1_path = '../crowd_truth/analyst_institute_afraid_ad_message_testing_saying_in_your_own_words_1.csv'\n",
    "ct = CrowdTruth(df=ai_afraid_ad_own_words_1_path)"
   ]
  },
  {
   "cell_type": "code",
   "execution_count": 3,
   "metadata": {},
   "outputs": [],
   "source": [
    "def get_theme_and_responses():\n",
    "    themes = list(ct.relations)\n",
    "    guess_theme = random.choice(themes)\n",
    "    guess_theme_inds = ct.clarity_df[ct.clarity_df[guess_theme] > 1].index\n",
    "    responses = list(ct.responses.loc[guess_theme_inds])\n",
    "    random.shuffle(responses)\n",
    "    \n",
    "    return guess_theme, responses"
   ]
  },
  {
   "cell_type": "markdown",
   "metadata": {},
   "source": [
    "# Full Layout"
   ]
  },
  {
   "cell_type": "code",
   "execution_count": 4,
   "metadata": {},
   "outputs": [
    {
     "data": {
      "application/vnd.jupyter.widget-view+json": {
       "model_id": "9ddc6793482b4b01abba4f977eb319ab",
       "version_major": 2,
       "version_minor": 0
      },
      "text/plain": [
       "HBox(children=(HTML(value=\"He can't be trusted. He's unqualified and unprepared. <br> Donald Trump is not fit …"
      ]
     },
     "metadata": {},
     "output_type": "display_data"
    }
   ],
   "source": [
    "theme, responses = get_theme_and_responses()\n",
    "num_responses=5\n",
    "guesses = []\n",
    "dropdown_guesses = []\n",
    "guess_input = wiggy.Text(value='Put your best guess here.')\n",
    "submit_btn = wiggy.Button(description='Submit')\n",
    "five_more_responses_btn = wiggy.Button(description='See 5 more responses')\n",
    "\n",
    "right_box = wiggy.VBox([guess_input, submit_btn, five_more_responses_btn])\n",
    "\n",
    "html_responses = wiggy.HTML(value=' <br> '.join(responses[:num_responses]))\n",
    "\n",
    "def more_responses_handler(obj):\n",
    "    global num_responses\n",
    "    num_responses += 5\n",
    "    html_responses.value=' <br> '.join(responses[:num_responses])\n",
    "\n",
    "five_more_responses_btn.on_click(more_responses_handler)\n",
    "\n",
    "\n",
    "def submit_handler(obj):\n",
    "    guesses.append(guess_input.value)\n",
    "    global box\n",
    "    box.close()\n",
    "    drop = wiggy.Dropdown(\n",
    "        options=ct.relations,\n",
    "        value=random.choice(ct.relations),\n",
    "        description='Choose a theme',\n",
    "        disabled=False,\n",
    "    )\n",
    "    \n",
    "    html_responses = wiggy.HTML(value=' <br> '.join(responses[:num_responses]))\n",
    "    right_box = wiggy.VBox([drop])\n",
    "    box = wiggy.HBox([html_responses, right_box])\n",
    "    display(box)\n",
    "    drop.observe(dropdown_on_change)\n",
    "\n",
    "def dropdown_on_change(change):\n",
    "    if change['type'] == 'change' and change['name'] == 'value':\n",
    "        dropdown_guesses = change['new']\n",
    "        box.close()\n",
    "        if change['new'] == theme:\n",
    "            print(\"Correct! %s was the right theme\" % theme)\n",
    "        else:\n",
    "            print(\"Thank you for your guess. %s was the theme determined by our featurization and turk annotation process\")\n",
    "        \n",
    "submit_btn.on_click(submit_handler)\n",
    "box = wiggy.HBox([html_responses, right_box])\n",
    "display(box)"
   ]
  }
 ],
 "metadata": {
  "kernelspec": {
   "display_name": "Scotts_Updates",
   "language": "python",
   "name": "scotts_updates"
  },
  "language_info": {
   "codemirror_mode": {
    "name": "ipython",
    "version": 3
   },
   "file_extension": ".py",
   "mimetype": "text/x-python",
   "name": "python",
   "nbconvert_exporter": "python",
   "pygments_lexer": "ipython3",
   "version": "3.8.3"
  }
 },
 "nbformat": 4,
 "nbformat_minor": 4
}
